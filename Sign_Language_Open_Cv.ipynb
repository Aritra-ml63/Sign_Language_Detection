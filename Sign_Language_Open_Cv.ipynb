{
 "cells": [
  {
   "cell_type": "code",
   "execution_count": 1,
   "id": "16086c9d",
   "metadata": {},
   "outputs": [],
   "source": [
    "import cv2\n",
    "import numpy as np\n",
    "from PIL import Image\n",
    "from keras import models\n",
    "from keras.models import model_from_json\n",
    "from keras.models import load_model"
   ]
  },
  {
   "cell_type": "code",
   "execution_count": null,
   "id": "3f518f60",
   "metadata": {},
   "outputs": [],
   "source": [
    "pip install tensorflow"
   ]
  },
  {
   "cell_type": "code",
   "execution_count": 2,
   "id": "d7a1540b",
   "metadata": {},
   "outputs": [
    {
     "name": "stdout",
     "output_type": "stream",
     "text": [
      "Note: you may need to restart the kernel to use updated packages.Collecting opencv-python\n",
      "\n",
      "  Downloading opencv_python-4.5.2.54-cp38-cp38-win_amd64.whl (34.7 MB)\n",
      "Requirement already satisfied: numpy>=1.17.3 in c:\\users\\aritra\\anaconda3\\lib\\site-packages (from opencv-python) (1.19.5)\n",
      "Installing collected packages: opencv-python\n",
      "Successfully installed opencv-python-4.5.2.54\n"
     ]
    }
   ],
   "source": [
    "pip install opencv-python"
   ]
  },
  {
   "cell_type": "code",
   "execution_count": 2,
   "id": "b23eebc7",
   "metadata": {},
   "outputs": [],
   "source": [
    "#font\n",
    "font = cv2.FONT_HERSHEY_SIMPLEX\n",
    "# org\n",
    "org = (300, 100)\n",
    "# fontScale\n",
    "fontScale = 2\n",
    "# Blue color in BGR\n",
    "colour = (255, 0, 0)\n",
    "# Line thickness of 2 px\n",
    "thickness = 2"
   ]
  },
  {
   "cell_type": "code",
   "execution_count": 3,
   "id": "d8ade8d0",
   "metadata": {},
   "outputs": [
    {
     "name": "stdout",
     "output_type": "stream",
     "text": [
      "json loaded\n"
     ]
    }
   ],
   "source": [
    "#Load the saved model\n",
    "with open('C:/Users/aritra/Desktop/My_Project/Sign_Language_Detection/model_architecture_sign_language_classifier_v1.json', 'r') as f:\n",
    "      model = model_from_json(f.read())\n",
    "        \n",
    "print('json loaded')"
   ]
  },
  {
   "cell_type": "code",
   "execution_count": 4,
   "id": "f06ede75",
   "metadata": {},
   "outputs": [
    {
     "name": "stdout",
     "output_type": "stream",
     "text": [
      "weightloaded\n"
     ]
    }
   ],
   "source": [
    "model.load_weights('C:/Users/aritra/Desktop/My_Project/Sign_Language_Detection/sign_language_classifier_v1.h5')\n",
    "\n",
    "print('weightloaded')"
   ]
  },
  {
   "cell_type": "code",
   "execution_count": 5,
   "id": "ca653bff",
   "metadata": {},
   "outputs": [],
   "source": [
    "def getLetter(result):\n",
    "    classLabels = {\n",
    "        0: 'A',\n",
    "        1: 'B',\n",
    "        2: 'c',\n",
    "        3: 'D',\n",
    "        4: 'E',\n",
    "        5: 'F',\n",
    "        6: 'G',\n",
    "        7: 'H',\n",
    "        8: 'I',\n",
    "        9: 'J',\n",
    "        10: 'K',\n",
    "        11: 'L',\n",
    "        12: 'M',\n",
    "        13: 'N',\n",
    "        14: 'O',\n",
    "        15: 'P',\n",
    "        16: 'Q',\n",
    "        17: 'R',\n",
    "        18: 'S',\n",
    "        19: 'T',\n",
    "        20: 'U',\n",
    "        21: 'V',\n",
    "        22: 'W',\n",
    "        23: 'X',\n",
    "        24: 'Y'\n",
    "    }\n",
    "    \n",
    "    try:\n",
    "        res = int(result)\n",
    "        return classLabels[res]\n",
    "    except:\n",
    "        return \"Error\""
   ]
  },
  {
   "cell_type": "code",
   "execution_count": 10,
   "id": "19e21f97",
   "metadata": {},
   "outputs": [],
   "source": [
    "cap = cv2.VideoCapture(0)"
   ]
  },
  {
   "cell_type": "code",
   "execution_count": null,
   "id": "2f5a85dd",
   "metadata": {},
   "outputs": [
    {
     "name": "stderr",
     "output_type": "stream",
     "text": [
      "C:\\Users\\aritra\\anaconda3\\lib\\site-packages\\keras\\engine\\sequential.py:450: UserWarning: `model.predict_classes()` is deprecated and will be removed after 2021-01-01. Please use instead:* `np.argmax(model.predict(x), axis=-1)`,   if your model does multi-class classification   (e.g. if it uses a `softmax` last-layer activation).* `(model.predict(x) > 0.5).astype(\"int32\")`,   if your model does binary classification   (e.g. if it uses a `sigmoid` last-layer activation).\n",
      "  warnings.warn('`model.predict_classes()` is deprecated and '\n"
     ]
    }
   ],
   "source": [
    "cap = cv2.VideoCapture(0)\n",
    "while True:\n",
    "        ret, frame = cap.read()\n",
    "        \n",
    "        #region of interest\n",
    "        roi = frame[100:400,320:620]\n",
    "        cv2.imshow('roi', roi)\n",
    "        roi = cv2.cvtColor(roi, cv2.COLOR_BGR2GRAY)\n",
    "        roi = cv2.resize(roi, (28,28), interpolation = cv2.INTER_AREA)\n",
    "        \n",
    "        cv2.imshow('ROI scaled & grayed', roi)\n",
    "        copy = frame.copy()\n",
    "        cv2.rectangle(copy,(320,100), (620,400), (255,0,0), 5)\n",
    "        \n",
    "        roi = roi.reshape(1,28,28,1)\n",
    "        \n",
    "        result = str(model.predict_classes(roi, 1, verbose = 0)[0])\n",
    "        cv2.putText(copy, getLetter(result), org, font, fontScale, colour, thickness)\n",
    "        \n",
    "        cv2.imshow('frame', copy)\n",
    "        if cv2.waitKey(1) == 13:\n",
    "                break\n",
    "\n",
    "cap.release()\n",
    "cv2.destroyAllWindows()"
   ]
  },
  {
   "cell_type": "code",
   "execution_count": null,
   "id": "2b968dc3",
   "metadata": {},
   "outputs": [],
   "source": []
  }
 ],
 "metadata": {
  "kernelspec": {
   "display_name": "Python 3",
   "language": "python",
   "name": "python3"
  },
  "language_info": {
   "codemirror_mode": {
    "name": "ipython",
    "version": 3
   },
   "file_extension": ".py",
   "mimetype": "text/x-python",
   "name": "python",
   "nbconvert_exporter": "python",
   "pygments_lexer": "ipython3",
   "version": "3.8.8"
  }
 },
 "nbformat": 4,
 "nbformat_minor": 5
}
